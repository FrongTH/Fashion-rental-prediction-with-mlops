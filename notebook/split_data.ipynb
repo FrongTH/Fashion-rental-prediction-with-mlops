{
 "cells": [
  {
   "cell_type": "markdown",
   "metadata": {},
   "source": [
    "# Import library"
   ]
  },
  {
   "cell_type": "code",
   "execution_count": 40,
   "metadata": {},
   "outputs": [],
   "source": [
    "import pandas as pd\n",
    "import yaml"
   ]
  },
  {
   "cell_type": "markdown",
   "metadata": {},
   "source": [
    "# Variable config"
   ]
  },
  {
   "cell_type": "markdown",
   "metadata": {},
   "source": [
    "## Read yaml file "
   ]
  },
  {
   "cell_type": "code",
   "execution_count": 41,
   "metadata": {},
   "outputs": [],
   "source": [
    "with open('../config.yaml', 'r') as file:\n",
    "    config = yaml.safe_load(file)"
   ]
  },
  {
   "cell_type": "code",
   "execution_count": 42,
   "metadata": {},
   "outputs": [],
   "source": [
    "data_path = config['DATA_PATH'] ## '../data/dress_rental_prices news.csv'"
   ]
  },
  {
   "cell_type": "markdown",
   "metadata": {},
   "source": [
    "# Read data"
   ]
  },
  {
   "cell_type": "code",
   "execution_count": 43,
   "metadata": {},
   "outputs": [],
   "source": [
    "df = pd.read_csv(data_path)"
   ]
  },
  {
   "cell_type": "code",
   "execution_count": 44,
   "metadata": {},
   "outputs": [
    {
     "data": {
      "text/html": [
       "<div>\n",
       "<style scoped>\n",
       "    .dataframe tbody tr th:only-of-type {\n",
       "        vertical-align: middle;\n",
       "    }\n",
       "\n",
       "    .dataframe tbody tr th {\n",
       "        vertical-align: top;\n",
       "    }\n",
       "\n",
       "    .dataframe thead th {\n",
       "        text-align: right;\n",
       "    }\n",
       "</style>\n",
       "<table border=\"1\" class=\"dataframe\">\n",
       "  <thead>\n",
       "    <tr style=\"text-align: right;\">\n",
       "      <th></th>\n",
       "      <th>numbers</th>\n",
       "      <th>ID</th>\n",
       "      <th>Name</th>\n",
       "      <th>Brand</th>\n",
       "      <th>Colour</th>\n",
       "      <th>Catagories</th>\n",
       "      <th>Price</th>\n",
       "    </tr>\n",
       "  </thead>\n",
       "  <tbody>\n",
       "    <tr>\n",
       "      <th>0</th>\n",
       "      <td>0</td>\n",
       "      <td>74416</td>\n",
       "      <td>Runway stripe dress</td>\n",
       "      <td>Stella McCartney</td>\n",
       "      <td>beige</td>\n",
       "      <td>dresses</td>\n",
       "      <td>111</td>\n",
       "    </tr>\n",
       "    <tr>\n",
       "      <th>1</th>\n",
       "      <td>1</td>\n",
       "      <td>73815</td>\n",
       "      <td>Reformation Kourtney Dress</td>\n",
       "      <td>Reformation</td>\n",
       "      <td>beige</td>\n",
       "      <td>dresses</td>\n",
       "      <td>50</td>\n",
       "    </tr>\n",
       "    <tr>\n",
       "      <th>2</th>\n",
       "      <td>2</td>\n",
       "      <td>73801</td>\n",
       "      <td>Ivory Viola bridal dress</td>\n",
       "      <td>Ghost</td>\n",
       "      <td>beige</td>\n",
       "      <td>dresses</td>\n",
       "      <td>75</td>\n",
       "    </tr>\n",
       "    <tr>\n",
       "      <th>3</th>\n",
       "      <td>3</td>\n",
       "      <td>73718</td>\n",
       "      <td>Pasu Dress - Rhino Tusk</td>\n",
       "      <td>Coucoo</td>\n",
       "      <td>beige</td>\n",
       "      <td>dresses</td>\n",
       "      <td>37</td>\n",
       "    </tr>\n",
       "    <tr>\n",
       "      <th>4</th>\n",
       "      <td>4</td>\n",
       "      <td>73605</td>\n",
       "      <td>Ellen</td>\n",
       "      <td>RIXO</td>\n",
       "      <td>beige</td>\n",
       "      <td>dresses</td>\n",
       "      <td>47</td>\n",
       "    </tr>\n",
       "  </tbody>\n",
       "</table>\n",
       "</div>"
      ],
      "text/plain": [
       "   numbers     ID                        Name             Brand Colour  \\\n",
       "0        0  74416         Runway stripe dress  Stella McCartney  beige   \n",
       "1        1  73815  Reformation Kourtney Dress       Reformation  beige   \n",
       "2        2  73801    Ivory Viola bridal dress             Ghost  beige   \n",
       "3        3  73718     Pasu Dress - Rhino Tusk            Coucoo  beige   \n",
       "4        4  73605                       Ellen              RIXO  beige   \n",
       "\n",
       "  Catagories  Price  \n",
       "0    dresses    111  \n",
       "1    dresses     50  \n",
       "2    dresses     75  \n",
       "3    dresses     37  \n",
       "4    dresses     47  "
      ]
     },
     "execution_count": 44,
     "metadata": {},
     "output_type": "execute_result"
    }
   ],
   "source": [
    "df.head()"
   ]
  },
  {
   "cell_type": "markdown",
   "metadata": {},
   "source": [
    "# Explore data"
   ]
  },
  {
   "cell_type": "markdown",
   "metadata": {},
   "source": [
    "## data type"
   ]
  },
  {
   "cell_type": "code",
   "execution_count": 45,
   "metadata": {},
   "outputs": [
    {
     "name": "stdout",
     "output_type": "stream",
     "text": [
      "<class 'pandas.core.frame.DataFrame'>\n",
      "RangeIndex: 29997 entries, 0 to 29996\n",
      "Data columns (total 7 columns):\n",
      " #   Column      Non-Null Count  Dtype \n",
      "---  ------      --------------  ----- \n",
      " 0   numbers     29997 non-null  int64 \n",
      " 1   ID          29997 non-null  int64 \n",
      " 2   Name        29995 non-null  object\n",
      " 3   Brand       29997 non-null  object\n",
      " 4   Colour      29997 non-null  object\n",
      " 5   Catagories  29997 non-null  object\n",
      " 6   Price       29997 non-null  int64 \n",
      "dtypes: int64(3), object(4)\n",
      "memory usage: 1.6+ MB\n"
     ]
    }
   ],
   "source": [
    "df.info()"
   ]
  },
  {
   "cell_type": "markdown",
   "metadata": {},
   "source": [
    "## describe"
   ]
  },
  {
   "cell_type": "code",
   "execution_count": 46,
   "metadata": {},
   "outputs": [
    {
     "data": {
      "text/html": [
       "<div>\n",
       "<style scoped>\n",
       "    .dataframe tbody tr th:only-of-type {\n",
       "        vertical-align: middle;\n",
       "    }\n",
       "\n",
       "    .dataframe tbody tr th {\n",
       "        vertical-align: top;\n",
       "    }\n",
       "\n",
       "    .dataframe thead th {\n",
       "        text-align: right;\n",
       "    }\n",
       "</style>\n",
       "<table border=\"1\" class=\"dataframe\">\n",
       "  <thead>\n",
       "    <tr style=\"text-align: right;\">\n",
       "      <th></th>\n",
       "      <th>numbers</th>\n",
       "      <th>ID</th>\n",
       "      <th>Price</th>\n",
       "    </tr>\n",
       "  </thead>\n",
       "  <tbody>\n",
       "    <tr>\n",
       "      <th>count</th>\n",
       "      <td>29997.000000</td>\n",
       "      <td>29997.000000</td>\n",
       "      <td>29997.000000</td>\n",
       "    </tr>\n",
       "    <tr>\n",
       "      <th>mean</th>\n",
       "      <td>14998.000000</td>\n",
       "      <td>42548.336400</td>\n",
       "      <td>61.668800</td>\n",
       "    </tr>\n",
       "    <tr>\n",
       "      <th>std</th>\n",
       "      <td>8659.532349</td>\n",
       "      <td>19867.282746</td>\n",
       "      <td>38.138688</td>\n",
       "    </tr>\n",
       "    <tr>\n",
       "      <th>min</th>\n",
       "      <td>0.000000</td>\n",
       "      <td>122.000000</td>\n",
       "      <td>11.000000</td>\n",
       "    </tr>\n",
       "    <tr>\n",
       "      <th>10%</th>\n",
       "      <td>2999.600000</td>\n",
       "      <td>14777.600000</td>\n",
       "      <td>32.000000</td>\n",
       "    </tr>\n",
       "    <tr>\n",
       "      <th>50%</th>\n",
       "      <td>14998.000000</td>\n",
       "      <td>42902.000000</td>\n",
       "      <td>51.000000</td>\n",
       "    </tr>\n",
       "    <tr>\n",
       "      <th>90%</th>\n",
       "      <td>26996.400000</td>\n",
       "      <td>68848.400000</td>\n",
       "      <td>102.000000</td>\n",
       "    </tr>\n",
       "    <tr>\n",
       "      <th>95%</th>\n",
       "      <td>28496.200000</td>\n",
       "      <td>71589.200000</td>\n",
       "      <td>139.000000</td>\n",
       "    </tr>\n",
       "    <tr>\n",
       "      <th>99%</th>\n",
       "      <td>29696.040000</td>\n",
       "      <td>73993.120000</td>\n",
       "      <td>195.000000</td>\n",
       "    </tr>\n",
       "    <tr>\n",
       "      <th>max</th>\n",
       "      <td>29996.000000</td>\n",
       "      <td>75024.000000</td>\n",
       "      <td>793.000000</td>\n",
       "    </tr>\n",
       "  </tbody>\n",
       "</table>\n",
       "</div>"
      ],
      "text/plain": [
       "            numbers            ID         Price\n",
       "count  29997.000000  29997.000000  29997.000000\n",
       "mean   14998.000000  42548.336400     61.668800\n",
       "std     8659.532349  19867.282746     38.138688\n",
       "min        0.000000    122.000000     11.000000\n",
       "10%     2999.600000  14777.600000     32.000000\n",
       "50%    14998.000000  42902.000000     51.000000\n",
       "90%    26996.400000  68848.400000    102.000000\n",
       "95%    28496.200000  71589.200000    139.000000\n",
       "99%    29696.040000  73993.120000    195.000000\n",
       "max    29996.000000  75024.000000    793.000000"
      ]
     },
     "execution_count": 46,
     "metadata": {},
     "output_type": "execute_result"
    }
   ],
   "source": [
    "df.describe(percentiles=[.1, .90, .95, .99])"
   ]
  },
  {
   "cell_type": "markdown",
   "metadata": {},
   "source": [
    "## ydata-profiling"
   ]
  },
  {
   "cell_type": "code",
   "execution_count": 47,
   "metadata": {},
   "outputs": [],
   "source": [
    "## let see in exlore_data.ipynb"
   ]
  },
  {
   "cell_type": "markdown",
   "metadata": {},
   "source": [
    "## nan value"
   ]
  },
  {
   "cell_type": "code",
   "execution_count": 48,
   "metadata": {},
   "outputs": [
    {
     "data": {
      "text/plain": [
       "numbers       0\n",
       "ID            0\n",
       "Name          2\n",
       "Brand         0\n",
       "Colour        0\n",
       "Catagories    0\n",
       "Price         0\n",
       "dtype: int64"
      ]
     },
     "execution_count": 48,
     "metadata": {},
     "output_type": "execute_result"
    }
   ],
   "source": [
    "df.isna().sum()"
   ]
  },
  {
   "cell_type": "markdown",
   "metadata": {},
   "source": [
    "# Transform data"
   ]
  },
  {
   "cell_type": "markdown",
   "metadata": {},
   "source": [
    "## drop nan value"
   ]
  },
  {
   "cell_type": "code",
   "execution_count": 49,
   "metadata": {},
   "outputs": [],
   "source": [
    "df = df[~df['Name'].isna()]"
   ]
  },
  {
   "cell_type": "markdown",
   "metadata": {},
   "source": [
    "## drop numbers column"
   ]
  },
  {
   "cell_type": "code",
   "execution_count": 50,
   "metadata": {},
   "outputs": [],
   "source": [
    "df.drop('numbers', axis= 1 , inplace = True)"
   ]
  },
  {
   "cell_type": "markdown",
   "metadata": {},
   "source": [
    "## change data type"
   ]
  },
  {
   "cell_type": "code",
   "execution_count": 51,
   "metadata": {},
   "outputs": [],
   "source": [
    "df['ID'] = df['ID'].astype('object')\n",
    "df['Brand'] = df['Brand'].astype('category')\n",
    "df['Colour'] = df['Colour'].astype('category')"
   ]
  },
  {
   "cell_type": "markdown",
   "metadata": {},
   "source": [
    "## split categories and replace nan with no-sub-category"
   ]
  },
  {
   "cell_type": "code",
   "execution_count": 52,
   "metadata": {},
   "outputs": [],
   "source": [
    "sub_categories = df['Catagories'].str.split(',', expand=True)\n",
    "sub_categories = sub_categories.fillna('no-sub-categories')\n",
    "sub_categories.columns = [f'sub-Catagories-{i+1}' for i in range(sub_categories.shape[1])]\n",
    "for sub in sub_categories.columns:\n",
    "    sub_categories[sub] = sub_categories[sub].astype('category')\n",
    "df = pd.concat([df, sub_categories], axis=1)\n",
    "df = df.drop(columns=['Catagories'])"
   ]
  },
  {
   "cell_type": "markdown",
   "metadata": {},
   "source": [
    "## filter data with less than 400"
   ]
  },
  {
   "cell_type": "code",
   "execution_count": 53,
   "metadata": {},
   "outputs": [],
   "source": [
    "df = df[df['Price'] < 400]"
   ]
  },
  {
   "cell_type": "markdown",
   "metadata": {},
   "source": [
    "# Feature engineering"
   ]
  },
  {
   "cell_type": "markdown",
   "metadata": {},
   "source": [
    "## Calculate average price by brand and add as a new column"
   ]
  },
  {
   "cell_type": "code",
   "execution_count": 54,
   "metadata": {},
   "outputs": [
    {
     "name": "stderr",
     "output_type": "stream",
     "text": [
      "C:\\Users\\Rattapon.San\\AppData\\Local\\Temp\\ipykernel_19036\\1663022941.py:1: FutureWarning: The default of observed=False is deprecated and will be changed to True in a future version of pandas. Pass observed=False to retain current behavior or observed=True to adopt the future default and silence this warning.\n",
      "  df['Avg_Price_By_Brand'] = df.groupby('Brand')['Price'].transform('mean')\n"
     ]
    }
   ],
   "source": [
    "df['Avg_Price_By_Brand'] = df.groupby('Brand')['Price'].transform('mean')"
   ]
  },
  {
   "cell_type": "markdown",
   "metadata": {},
   "source": [
    "## Calculate average price by (brand, colour) and add as a new column"
   ]
  },
  {
   "cell_type": "code",
   "execution_count": 55,
   "metadata": {},
   "outputs": [
    {
     "name": "stderr",
     "output_type": "stream",
     "text": [
      "C:\\Users\\Rattapon.San\\AppData\\Local\\Temp\\ipykernel_19036\\3750462187.py:1: FutureWarning: The default of observed=False is deprecated and will be changed to True in a future version of pandas. Pass observed=False to retain current behavior or observed=True to adopt the future default and silence this warning.\n",
      "  df['Avg_Price_By_Brand_Colour'] = df.groupby(['Brand', 'Colour'])['Price'].transform('mean')\n"
     ]
    }
   ],
   "source": [
    "df['Avg_Price_By_Brand_Colour'] = df.groupby(['Brand', 'Colour'])['Price'].transform('mean')"
   ]
  },
  {
   "cell_type": "markdown",
   "metadata": {},
   "source": [
    "## Create a new column to count the number of sub-categories that are not 'no-sub-categories'"
   ]
  },
  {
   "cell_type": "code",
   "execution_count": 56,
   "metadata": {},
   "outputs": [],
   "source": [
    "df['Category_Count'] = (sub_categories != 'no-sub-categories').sum(axis=1)"
   ]
  },
  {
   "cell_type": "code",
   "execution_count": 57,
   "metadata": {},
   "outputs": [
    {
     "name": "stdout",
     "output_type": "stream",
     "text": [
      "<class 'pandas.core.frame.DataFrame'>\n",
      "Index: 29974 entries, 0 to 29996\n",
      "Data columns (total 34 columns):\n",
      " #   Column                     Non-Null Count  Dtype   \n",
      "---  ------                     --------------  -----   \n",
      " 0   ID                         29974 non-null  object  \n",
      " 1   Name                       29974 non-null  object  \n",
      " 2   Brand                      29974 non-null  category\n",
      " 3   Colour                     29974 non-null  category\n",
      " 4   Price                      29974 non-null  int64   \n",
      " 5   sub-Catagories-1           29974 non-null  category\n",
      " 6   sub-Catagories-2           29974 non-null  category\n",
      " 7   sub-Catagories-3           29974 non-null  category\n",
      " 8   sub-Catagories-4           29974 non-null  category\n",
      " 9   sub-Catagories-5           29974 non-null  category\n",
      " 10  sub-Catagories-6           29974 non-null  category\n",
      " 11  sub-Catagories-7           29974 non-null  category\n",
      " 12  sub-Catagories-8           29974 non-null  category\n",
      " 13  sub-Catagories-9           29974 non-null  category\n",
      " 14  sub-Catagories-10          29974 non-null  category\n",
      " 15  sub-Catagories-11          29974 non-null  category\n",
      " 16  sub-Catagories-12          29974 non-null  category\n",
      " 17  sub-Catagories-13          29974 non-null  category\n",
      " 18  sub-Catagories-14          29974 non-null  category\n",
      " 19  sub-Catagories-15          29974 non-null  category\n",
      " 20  sub-Catagories-16          29974 non-null  category\n",
      " 21  sub-Catagories-17          29974 non-null  category\n",
      " 22  sub-Catagories-18          29974 non-null  category\n",
      " 23  sub-Catagories-19          29974 non-null  category\n",
      " 24  sub-Catagories-20          29974 non-null  category\n",
      " 25  sub-Catagories-21          29974 non-null  category\n",
      " 26  sub-Catagories-22          29974 non-null  category\n",
      " 27  sub-Catagories-23          29974 non-null  category\n",
      " 28  sub-Catagories-24          29974 non-null  category\n",
      " 29  sub-Catagories-25          29974 non-null  category\n",
      " 30  sub-Catagories-26          29974 non-null  category\n",
      " 31  Avg_Price_By_Brand         29974 non-null  float64 \n",
      " 32  Avg_Price_By_Brand_Colour  29974 non-null  float64 \n",
      " 33  Category_Count             29974 non-null  int64   \n",
      "dtypes: category(28), float64(2), int64(2), object(2)\n",
      "memory usage: 2.5+ MB\n"
     ]
    }
   ],
   "source": [
    "df.info()"
   ]
  },
  {
   "cell_type": "markdown",
   "metadata": {},
   "source": [
    "# Split data to train, validation, test"
   ]
  },
  {
   "cell_type": "code",
   "execution_count": 58,
   "metadata": {},
   "outputs": [],
   "source": [
    "from sklearn.model_selection import train_test_split"
   ]
  },
  {
   "cell_type": "code",
   "execution_count": 59,
   "metadata": {},
   "outputs": [],
   "source": [
    "def split_dataframe(df, train_size=0.7, validation_size=0.2, test_size=0.1, stratify=None):\n",
    "    \"\"\"\n",
    "    Splits a DataFrame into train, validation, and test sets.\n",
    "    \n",
    "    Parameters:\n",
    "    df (DataFrame): The input DataFrame to be split.\n",
    "    train_size (float): Proportion of the dataset to include in the train split (0 to 1).\n",
    "    validation_size (float): Proportion of the dataset to include in the validation split (0 to 1).\n",
    "    test_size (float): Proportion of the dataset to include in the test split (0 to 1).\n",
    "    stratify (str or None): Column to be used for stratification. Default is None.\n",
    "    \n",
    "    Returns:\n",
    "    train_df (DataFrame): Training set.\n",
    "    validation_df (DataFrame): Validation set.\n",
    "    test_df (DataFrame): Test set.\n",
    "\n",
    "    Example:\n",
    "    >>> import pandas as pd\n",
    "    >>> data = {'ID': [1, 2, 3, 4, 5, 6, 7, 8, 9, 10],\n",
    "                'Feature': [0.1, 0.2, 0.2, 0.4, 0.4, 0.5, 0.6, 0.7, 0.8, 0.9],\n",
    "                'Target': [0, 1, 0, 1, 0, 1, 0, 1, 0, 1]}\n",
    "    >>> df = pd.DataFrame(data)\n",
    "    >>> train_df, validation_df, test_df = split_dataframe(df, stratify='Target')\n",
    "    >>> print(train_df)\n",
    "    >>> print(validation_df)\n",
    "    >>> print(test_df)\n",
    "    \"\"\"\n",
    "    \n",
    "    # Stratify parameter for the split (can be None)\n",
    "    stratify_param = None\n",
    "    if stratify is not None:\n",
    "        stratify_param = df[stratify]\n",
    "    \n",
    "    # Split into train+validation and test sets\n",
    "    train_validation_df, test_df = train_test_split(df, test_size=test_size, random_state=42, stratify=stratify_param)\n",
    "    \n",
    "    if validation_size == 0:\n",
    "        return train_validation_df, None, test_df\n",
    "    else:\n",
    "        # Adjust validation size to account for the test set already being removed\n",
    "        adjusted_validation_size = validation_size / (1 - test_size)\n",
    "        \n",
    "        # Stratify parameter for splitting train into train and validation\n",
    "        stratify_train_param = None\n",
    "        if stratify is not None:\n",
    "            stratify_train_param = train_validation_df[stratify]\n",
    "        \n",
    "        # Split the remaining data into train and validation sets\n",
    "        train_df, validation_df = train_test_split(train_validation_df, test_size=adjusted_validation_size, random_state=42, stratify=stratify_train_param)\n",
    "        \n",
    "        return train_df, validation_df, test_df"
   ]
  },
  {
   "cell_type": "code",
   "execution_count": 60,
   "metadata": {},
   "outputs": [],
   "source": [
    "train, validation, test = split_dataframe(df)"
   ]
  },
  {
   "cell_type": "code",
   "execution_count": null,
   "metadata": {},
   "outputs": [],
   "source": []
  },
  {
   "cell_type": "code",
   "execution_count": null,
   "metadata": {},
   "outputs": [],
   "source": []
  }
 ],
 "metadata": {
  "kernelspec": {
   "display_name": "fashion-rental-prediction",
   "language": "python",
   "name": "python3"
  },
  "language_info": {
   "codemirror_mode": {
    "name": "ipython",
    "version": 3
   },
   "file_extension": ".py",
   "mimetype": "text/x-python",
   "name": "python",
   "nbconvert_exporter": "python",
   "pygments_lexer": "ipython3",
   "version": "3.12.4"
  }
 },
 "nbformat": 4,
 "nbformat_minor": 2
}
