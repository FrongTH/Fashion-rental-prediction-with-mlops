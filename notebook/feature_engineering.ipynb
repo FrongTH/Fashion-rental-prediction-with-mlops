{
 "cells": [
  {
   "cell_type": "markdown",
   "metadata": {},
   "source": [
    "# Import library"
   ]
  },
  {
   "cell_type": "code",
   "execution_count": 1,
   "metadata": {},
   "outputs": [],
   "source": [
    "import pandas as pd\n",
    "import yaml"
   ]
  },
  {
   "cell_type": "markdown",
   "metadata": {},
   "source": [
    "# Variable config"
   ]
  },
  {
   "cell_type": "markdown",
   "metadata": {},
   "source": [
    "## Read yaml file "
   ]
  },
  {
   "cell_type": "code",
   "execution_count": 2,
   "metadata": {},
   "outputs": [],
   "source": [
    "with open('../config.yaml', 'r') as file:\n",
    "    config = yaml.safe_load(file)"
   ]
  },
  {
   "cell_type": "code",
   "execution_count": 3,
   "metadata": {},
   "outputs": [],
   "source": [
    "data_path = config['DATA_PATH'] ## '../data/dress_rental_prices news.csv'"
   ]
  },
  {
   "cell_type": "markdown",
   "metadata": {},
   "source": [
    "# Read data"
   ]
  },
  {
   "cell_type": "code",
   "execution_count": 4,
   "metadata": {},
   "outputs": [],
   "source": [
    "df = pd.read_csv(data_path)"
   ]
  },
  {
   "cell_type": "code",
   "execution_count": 5,
   "metadata": {},
   "outputs": [
    {
     "data": {
      "text/html": [
       "<div>\n",
       "<style scoped>\n",
       "    .dataframe tbody tr th:only-of-type {\n",
       "        vertical-align: middle;\n",
       "    }\n",
       "\n",
       "    .dataframe tbody tr th {\n",
       "        vertical-align: top;\n",
       "    }\n",
       "\n",
       "    .dataframe thead th {\n",
       "        text-align: right;\n",
       "    }\n",
       "</style>\n",
       "<table border=\"1\" class=\"dataframe\">\n",
       "  <thead>\n",
       "    <tr style=\"text-align: right;\">\n",
       "      <th></th>\n",
       "      <th>numbers</th>\n",
       "      <th>ID</th>\n",
       "      <th>Name</th>\n",
       "      <th>Brand</th>\n",
       "      <th>Colour</th>\n",
       "      <th>Catagories</th>\n",
       "      <th>Price</th>\n",
       "    </tr>\n",
       "  </thead>\n",
       "  <tbody>\n",
       "    <tr>\n",
       "      <th>0</th>\n",
       "      <td>0</td>\n",
       "      <td>74416</td>\n",
       "      <td>Runway stripe dress</td>\n",
       "      <td>Stella McCartney</td>\n",
       "      <td>beige</td>\n",
       "      <td>dresses</td>\n",
       "      <td>111</td>\n",
       "    </tr>\n",
       "    <tr>\n",
       "      <th>1</th>\n",
       "      <td>1</td>\n",
       "      <td>73815</td>\n",
       "      <td>Reformation Kourtney Dress</td>\n",
       "      <td>Reformation</td>\n",
       "      <td>beige</td>\n",
       "      <td>dresses</td>\n",
       "      <td>50</td>\n",
       "    </tr>\n",
       "    <tr>\n",
       "      <th>2</th>\n",
       "      <td>2</td>\n",
       "      <td>73801</td>\n",
       "      <td>Ivory Viola bridal dress</td>\n",
       "      <td>Ghost</td>\n",
       "      <td>beige</td>\n",
       "      <td>dresses</td>\n",
       "      <td>75</td>\n",
       "    </tr>\n",
       "    <tr>\n",
       "      <th>3</th>\n",
       "      <td>3</td>\n",
       "      <td>73718</td>\n",
       "      <td>Pasu Dress - Rhino Tusk</td>\n",
       "      <td>Coucoo</td>\n",
       "      <td>beige</td>\n",
       "      <td>dresses</td>\n",
       "      <td>37</td>\n",
       "    </tr>\n",
       "    <tr>\n",
       "      <th>4</th>\n",
       "      <td>4</td>\n",
       "      <td>73605</td>\n",
       "      <td>Ellen</td>\n",
       "      <td>RIXO</td>\n",
       "      <td>beige</td>\n",
       "      <td>dresses</td>\n",
       "      <td>47</td>\n",
       "    </tr>\n",
       "  </tbody>\n",
       "</table>\n",
       "</div>"
      ],
      "text/plain": [
       "   numbers     ID                        Name             Brand Colour  \\\n",
       "0        0  74416         Runway stripe dress  Stella McCartney  beige   \n",
       "1        1  73815  Reformation Kourtney Dress       Reformation  beige   \n",
       "2        2  73801    Ivory Viola bridal dress             Ghost  beige   \n",
       "3        3  73718     Pasu Dress - Rhino Tusk            Coucoo  beige   \n",
       "4        4  73605                       Ellen              RIXO  beige   \n",
       "\n",
       "  Catagories  Price  \n",
       "0    dresses    111  \n",
       "1    dresses     50  \n",
       "2    dresses     75  \n",
       "3    dresses     37  \n",
       "4    dresses     47  "
      ]
     },
     "execution_count": 5,
     "metadata": {},
     "output_type": "execute_result"
    }
   ],
   "source": [
    "df.head()"
   ]
  },
  {
   "cell_type": "markdown",
   "metadata": {},
   "source": [
    "# Explore data"
   ]
  },
  {
   "cell_type": "markdown",
   "metadata": {},
   "source": [
    "## data type"
   ]
  },
  {
   "cell_type": "code",
   "execution_count": 6,
   "metadata": {},
   "outputs": [
    {
     "name": "stdout",
     "output_type": "stream",
     "text": [
      "<class 'pandas.core.frame.DataFrame'>\n",
      "RangeIndex: 29997 entries, 0 to 29996\n",
      "Data columns (total 7 columns):\n",
      " #   Column      Non-Null Count  Dtype \n",
      "---  ------      --------------  ----- \n",
      " 0   numbers     29997 non-null  int64 \n",
      " 1   ID          29997 non-null  int64 \n",
      " 2   Name        29995 non-null  object\n",
      " 3   Brand       29997 non-null  object\n",
      " 4   Colour      29997 non-null  object\n",
      " 5   Catagories  29997 non-null  object\n",
      " 6   Price       29997 non-null  int64 \n",
      "dtypes: int64(3), object(4)\n",
      "memory usage: 1.6+ MB\n"
     ]
    }
   ],
   "source": [
    "df.info()"
   ]
  },
  {
   "cell_type": "markdown",
   "metadata": {},
   "source": [
    "## describe"
   ]
  },
  {
   "cell_type": "code",
   "execution_count": 7,
   "metadata": {},
   "outputs": [
    {
     "data": {
      "text/html": [
       "<div>\n",
       "<style scoped>\n",
       "    .dataframe tbody tr th:only-of-type {\n",
       "        vertical-align: middle;\n",
       "    }\n",
       "\n",
       "    .dataframe tbody tr th {\n",
       "        vertical-align: top;\n",
       "    }\n",
       "\n",
       "    .dataframe thead th {\n",
       "        text-align: right;\n",
       "    }\n",
       "</style>\n",
       "<table border=\"1\" class=\"dataframe\">\n",
       "  <thead>\n",
       "    <tr style=\"text-align: right;\">\n",
       "      <th></th>\n",
       "      <th>numbers</th>\n",
       "      <th>ID</th>\n",
       "      <th>Price</th>\n",
       "    </tr>\n",
       "  </thead>\n",
       "  <tbody>\n",
       "    <tr>\n",
       "      <th>count</th>\n",
       "      <td>29997.000000</td>\n",
       "      <td>29997.000000</td>\n",
       "      <td>29997.000000</td>\n",
       "    </tr>\n",
       "    <tr>\n",
       "      <th>mean</th>\n",
       "      <td>14998.000000</td>\n",
       "      <td>42548.336400</td>\n",
       "      <td>61.668800</td>\n",
       "    </tr>\n",
       "    <tr>\n",
       "      <th>std</th>\n",
       "      <td>8659.532349</td>\n",
       "      <td>19867.282746</td>\n",
       "      <td>38.138688</td>\n",
       "    </tr>\n",
       "    <tr>\n",
       "      <th>min</th>\n",
       "      <td>0.000000</td>\n",
       "      <td>122.000000</td>\n",
       "      <td>11.000000</td>\n",
       "    </tr>\n",
       "    <tr>\n",
       "      <th>10%</th>\n",
       "      <td>2999.600000</td>\n",
       "      <td>14777.600000</td>\n",
       "      <td>32.000000</td>\n",
       "    </tr>\n",
       "    <tr>\n",
       "      <th>50%</th>\n",
       "      <td>14998.000000</td>\n",
       "      <td>42902.000000</td>\n",
       "      <td>51.000000</td>\n",
       "    </tr>\n",
       "    <tr>\n",
       "      <th>90%</th>\n",
       "      <td>26996.400000</td>\n",
       "      <td>68848.400000</td>\n",
       "      <td>102.000000</td>\n",
       "    </tr>\n",
       "    <tr>\n",
       "      <th>95%</th>\n",
       "      <td>28496.200000</td>\n",
       "      <td>71589.200000</td>\n",
       "      <td>139.000000</td>\n",
       "    </tr>\n",
       "    <tr>\n",
       "      <th>99%</th>\n",
       "      <td>29696.040000</td>\n",
       "      <td>73993.120000</td>\n",
       "      <td>195.000000</td>\n",
       "    </tr>\n",
       "    <tr>\n",
       "      <th>max</th>\n",
       "      <td>29996.000000</td>\n",
       "      <td>75024.000000</td>\n",
       "      <td>793.000000</td>\n",
       "    </tr>\n",
       "  </tbody>\n",
       "</table>\n",
       "</div>"
      ],
      "text/plain": [
       "            numbers            ID         Price\n",
       "count  29997.000000  29997.000000  29997.000000\n",
       "mean   14998.000000  42548.336400     61.668800\n",
       "std     8659.532349  19867.282746     38.138688\n",
       "min        0.000000    122.000000     11.000000\n",
       "10%     2999.600000  14777.600000     32.000000\n",
       "50%    14998.000000  42902.000000     51.000000\n",
       "90%    26996.400000  68848.400000    102.000000\n",
       "95%    28496.200000  71589.200000    139.000000\n",
       "99%    29696.040000  73993.120000    195.000000\n",
       "max    29996.000000  75024.000000    793.000000"
      ]
     },
     "execution_count": 7,
     "metadata": {},
     "output_type": "execute_result"
    }
   ],
   "source": [
    "df.describe(percentiles=[.1, .90, .95, .99])"
   ]
  },
  {
   "cell_type": "markdown",
   "metadata": {},
   "source": [
    "## ydata-profiling"
   ]
  },
  {
   "cell_type": "code",
   "execution_count": 8,
   "metadata": {},
   "outputs": [],
   "source": [
    "## let see in exlore_data.ipynb"
   ]
  },
  {
   "cell_type": "markdown",
   "metadata": {},
   "source": [
    "## nan value"
   ]
  },
  {
   "cell_type": "code",
   "execution_count": 9,
   "metadata": {},
   "outputs": [
    {
     "data": {
      "text/plain": [
       "numbers       0\n",
       "ID            0\n",
       "Name          2\n",
       "Brand         0\n",
       "Colour        0\n",
       "Catagories    0\n",
       "Price         0\n",
       "dtype: int64"
      ]
     },
     "execution_count": 9,
     "metadata": {},
     "output_type": "execute_result"
    }
   ],
   "source": [
    "df.isna().sum()"
   ]
  },
  {
   "cell_type": "markdown",
   "metadata": {},
   "source": [
    "# Transform data"
   ]
  },
  {
   "cell_type": "markdown",
   "metadata": {},
   "source": [
    "## drop nan value"
   ]
  },
  {
   "cell_type": "code",
   "execution_count": 10,
   "metadata": {},
   "outputs": [],
   "source": [
    "df = df[~df['Name'].isna()]"
   ]
  },
  {
   "cell_type": "markdown",
   "metadata": {},
   "source": [
    "## drop numbers column"
   ]
  },
  {
   "cell_type": "code",
   "execution_count": 11,
   "metadata": {},
   "outputs": [],
   "source": [
    "df.drop('numbers', axis= 1 , inplace = True)"
   ]
  },
  {
   "cell_type": "markdown",
   "metadata": {},
   "source": [
    "## change data type"
   ]
  },
  {
   "cell_type": "code",
   "execution_count": 12,
   "metadata": {},
   "outputs": [],
   "source": [
    "df['ID'] = df['ID'].astype('object')\n",
    "df['Brand'] = df['Brand'].astype('category')\n",
    "df['Colour'] = df['Colour'].astype('category')"
   ]
  },
  {
   "cell_type": "markdown",
   "metadata": {},
   "source": [
    "## split categories and replace nan with no-sub-category"
   ]
  },
  {
   "cell_type": "code",
   "execution_count": 13,
   "metadata": {},
   "outputs": [],
   "source": [
    "sub_categories = df['Catagories'].str.split(',', expand=True)\n",
    "sub_categories = sub_categories.fillna('no-sub-categories')\n",
    "sub_categories.columns = [f'sub-Catagories-{i+1}' for i in range(sub_categories.shape[1])]\n",
    "\n",
    "df = pd.concat([df, sub_categories], axis=1)\n",
    "df = df.drop(columns=['Catagories'])"
   ]
  },
  {
   "cell_type": "markdown",
   "metadata": {},
   "source": [
    "## filter data with less than 400"
   ]
  },
  {
   "cell_type": "code",
   "execution_count": 14,
   "metadata": {},
   "outputs": [],
   "source": [
    "df = df[df['Price'] < 400]"
   ]
  },
  {
   "cell_type": "markdown",
   "metadata": {},
   "source": [
    "# Feature engineering"
   ]
  },
  {
   "cell_type": "markdown",
   "metadata": {},
   "source": [
    "## Calculate average price by brand and add as a new column"
   ]
  },
  {
   "cell_type": "code",
   "execution_count": 15,
   "metadata": {},
   "outputs": [
    {
     "name": "stderr",
     "output_type": "stream",
     "text": [
      "C:\\Users\\Rattapon.San\\AppData\\Local\\Temp\\ipykernel_30048\\1663022941.py:1: FutureWarning: The default of observed=False is deprecated and will be changed to True in a future version of pandas. Pass observed=False to retain current behavior or observed=True to adopt the future default and silence this warning.\n",
      "  df['Avg_Price_By_Brand'] = df.groupby('Brand')['Price'].transform('mean')\n"
     ]
    }
   ],
   "source": [
    "df['Avg_Price_By_Brand'] = df.groupby('Brand')['Price'].transform('mean')"
   ]
  },
  {
   "cell_type": "markdown",
   "metadata": {},
   "source": [
    "## Calculate average price by (brand, colour) and add as a new column"
   ]
  },
  {
   "cell_type": "code",
   "execution_count": 16,
   "metadata": {},
   "outputs": [
    {
     "name": "stderr",
     "output_type": "stream",
     "text": [
      "C:\\Users\\Rattapon.San\\AppData\\Local\\Temp\\ipykernel_30048\\3750462187.py:1: FutureWarning: The default of observed=False is deprecated and will be changed to True in a future version of pandas. Pass observed=False to retain current behavior or observed=True to adopt the future default and silence this warning.\n",
      "  df['Avg_Price_By_Brand_Colour'] = df.groupby(['Brand', 'Colour'])['Price'].transform('mean')\n"
     ]
    }
   ],
   "source": [
    "df['Avg_Price_By_Brand_Colour'] = df.groupby(['Brand', 'Colour'])['Price'].transform('mean')"
   ]
  },
  {
   "cell_type": "markdown",
   "metadata": {},
   "source": [
    "## Create a new column to count the number of sub-categories that are not 'no-sub-categories'"
   ]
  },
  {
   "cell_type": "code",
   "execution_count": 17,
   "metadata": {},
   "outputs": [],
   "source": [
    "df['Category_Count'] = (sub_categories != 'no-sub-categories').sum(axis=1)"
   ]
  },
  {
   "cell_type": "code",
   "execution_count": 18,
   "metadata": {},
   "outputs": [
    {
     "data": {
      "text/html": [
       "<div>\n",
       "<style scoped>\n",
       "    .dataframe tbody tr th:only-of-type {\n",
       "        vertical-align: middle;\n",
       "    }\n",
       "\n",
       "    .dataframe tbody tr th {\n",
       "        vertical-align: top;\n",
       "    }\n",
       "\n",
       "    .dataframe thead th {\n",
       "        text-align: right;\n",
       "    }\n",
       "</style>\n",
       "<table border=\"1\" class=\"dataframe\">\n",
       "  <thead>\n",
       "    <tr style=\"text-align: right;\">\n",
       "      <th></th>\n",
       "      <th>ID</th>\n",
       "      <th>Name</th>\n",
       "      <th>Brand</th>\n",
       "      <th>Colour</th>\n",
       "      <th>Price</th>\n",
       "      <th>sub-Catagories-1</th>\n",
       "      <th>sub-Catagories-2</th>\n",
       "      <th>sub-Catagories-3</th>\n",
       "      <th>sub-Catagories-4</th>\n",
       "      <th>sub-Catagories-5</th>\n",
       "      <th>...</th>\n",
       "      <th>sub-Catagories-20</th>\n",
       "      <th>sub-Catagories-21</th>\n",
       "      <th>sub-Catagories-22</th>\n",
       "      <th>sub-Catagories-23</th>\n",
       "      <th>sub-Catagories-24</th>\n",
       "      <th>sub-Catagories-25</th>\n",
       "      <th>sub-Catagories-26</th>\n",
       "      <th>Avg_Price_By_Brand</th>\n",
       "      <th>Avg_Price_By_Brand_Colour</th>\n",
       "      <th>Category_Count</th>\n",
       "    </tr>\n",
       "  </thead>\n",
       "  <tbody>\n",
       "    <tr>\n",
       "      <th>0</th>\n",
       "      <td>74416</td>\n",
       "      <td>Runway stripe dress</td>\n",
       "      <td>Stella McCartney</td>\n",
       "      <td>beige</td>\n",
       "      <td>111</td>\n",
       "      <td>dresses</td>\n",
       "      <td>no-sub-categories</td>\n",
       "      <td>no-sub-categories</td>\n",
       "      <td>no-sub-categories</td>\n",
       "      <td>no-sub-categories</td>\n",
       "      <td>...</td>\n",
       "      <td>no-sub-categories</td>\n",
       "      <td>no-sub-categories</td>\n",
       "      <td>no-sub-categories</td>\n",
       "      <td>no-sub-categories</td>\n",
       "      <td>no-sub-categories</td>\n",
       "      <td>no-sub-categories</td>\n",
       "      <td>no-sub-categories</td>\n",
       "      <td>127.189189</td>\n",
       "      <td>109.500000</td>\n",
       "      <td>1</td>\n",
       "    </tr>\n",
       "    <tr>\n",
       "      <th>1</th>\n",
       "      <td>73815</td>\n",
       "      <td>Reformation Kourtney Dress</td>\n",
       "      <td>Reformation</td>\n",
       "      <td>beige</td>\n",
       "      <td>50</td>\n",
       "      <td>dresses</td>\n",
       "      <td>no-sub-categories</td>\n",
       "      <td>no-sub-categories</td>\n",
       "      <td>no-sub-categories</td>\n",
       "      <td>no-sub-categories</td>\n",
       "      <td>...</td>\n",
       "      <td>no-sub-categories</td>\n",
       "      <td>no-sub-categories</td>\n",
       "      <td>no-sub-categories</td>\n",
       "      <td>no-sub-categories</td>\n",
       "      <td>no-sub-categories</td>\n",
       "      <td>no-sub-categories</td>\n",
       "      <td>no-sub-categories</td>\n",
       "      <td>50.490328</td>\n",
       "      <td>53.534884</td>\n",
       "      <td>1</td>\n",
       "    </tr>\n",
       "    <tr>\n",
       "      <th>2</th>\n",
       "      <td>73801</td>\n",
       "      <td>Ivory Viola bridal dress</td>\n",
       "      <td>Ghost</td>\n",
       "      <td>beige</td>\n",
       "      <td>75</td>\n",
       "      <td>dresses</td>\n",
       "      <td>no-sub-categories</td>\n",
       "      <td>no-sub-categories</td>\n",
       "      <td>no-sub-categories</td>\n",
       "      <td>no-sub-categories</td>\n",
       "      <td>...</td>\n",
       "      <td>no-sub-categories</td>\n",
       "      <td>no-sub-categories</td>\n",
       "      <td>no-sub-categories</td>\n",
       "      <td>no-sub-categories</td>\n",
       "      <td>no-sub-categories</td>\n",
       "      <td>no-sub-categories</td>\n",
       "      <td>no-sub-categories</td>\n",
       "      <td>41.660900</td>\n",
       "      <td>40.117647</td>\n",
       "      <td>1</td>\n",
       "    </tr>\n",
       "    <tr>\n",
       "      <th>3</th>\n",
       "      <td>73718</td>\n",
       "      <td>Pasu Dress - Rhino Tusk</td>\n",
       "      <td>Coucoo</td>\n",
       "      <td>beige</td>\n",
       "      <td>37</td>\n",
       "      <td>dresses</td>\n",
       "      <td>no-sub-categories</td>\n",
       "      <td>no-sub-categories</td>\n",
       "      <td>no-sub-categories</td>\n",
       "      <td>no-sub-categories</td>\n",
       "      <td>...</td>\n",
       "      <td>no-sub-categories</td>\n",
       "      <td>no-sub-categories</td>\n",
       "      <td>no-sub-categories</td>\n",
       "      <td>no-sub-categories</td>\n",
       "      <td>no-sub-categories</td>\n",
       "      <td>no-sub-categories</td>\n",
       "      <td>no-sub-categories</td>\n",
       "      <td>44.692308</td>\n",
       "      <td>37.250000</td>\n",
       "      <td>1</td>\n",
       "    </tr>\n",
       "    <tr>\n",
       "      <th>4</th>\n",
       "      <td>73605</td>\n",
       "      <td>Ellen</td>\n",
       "      <td>RIXO</td>\n",
       "      <td>beige</td>\n",
       "      <td>47</td>\n",
       "      <td>dresses</td>\n",
       "      <td>no-sub-categories</td>\n",
       "      <td>no-sub-categories</td>\n",
       "      <td>no-sub-categories</td>\n",
       "      <td>no-sub-categories</td>\n",
       "      <td>...</td>\n",
       "      <td>no-sub-categories</td>\n",
       "      <td>no-sub-categories</td>\n",
       "      <td>no-sub-categories</td>\n",
       "      <td>no-sub-categories</td>\n",
       "      <td>no-sub-categories</td>\n",
       "      <td>no-sub-categories</td>\n",
       "      <td>no-sub-categories</td>\n",
       "      <td>51.809540</td>\n",
       "      <td>51.790323</td>\n",
       "      <td>1</td>\n",
       "    </tr>\n",
       "    <tr>\n",
       "      <th>...</th>\n",
       "      <td>...</td>\n",
       "      <td>...</td>\n",
       "      <td>...</td>\n",
       "      <td>...</td>\n",
       "      <td>...</td>\n",
       "      <td>...</td>\n",
       "      <td>...</td>\n",
       "      <td>...</td>\n",
       "      <td>...</td>\n",
       "      <td>...</td>\n",
       "      <td>...</td>\n",
       "      <td>...</td>\n",
       "      <td>...</td>\n",
       "      <td>...</td>\n",
       "      <td>...</td>\n",
       "      <td>...</td>\n",
       "      <td>...</td>\n",
       "      <td>...</td>\n",
       "      <td>...</td>\n",
       "      <td>...</td>\n",
       "      <td>...</td>\n",
       "    </tr>\n",
       "    <tr>\n",
       "      <th>29992</th>\n",
       "      <td>872</td>\n",
       "      <td>Silk and wool-blend crepe dress yellow</td>\n",
       "      <td>Victoria Beckham</td>\n",
       "      <td>yellow</td>\n",
       "      <td>102</td>\n",
       "      <td>dresses</td>\n",
       "      <td>Smart</td>\n",
       "      <td>midi</td>\n",
       "      <td>Short Sleeve</td>\n",
       "      <td>Pencil</td>\n",
       "      <td>...</td>\n",
       "      <td>no-sub-categories</td>\n",
       "      <td>no-sub-categories</td>\n",
       "      <td>no-sub-categories</td>\n",
       "      <td>no-sub-categories</td>\n",
       "      <td>no-sub-categories</td>\n",
       "      <td>no-sub-categories</td>\n",
       "      <td>no-sub-categories</td>\n",
       "      <td>116.462963</td>\n",
       "      <td>102.000000</td>\n",
       "      <td>6</td>\n",
       "    </tr>\n",
       "    <tr>\n",
       "      <th>29993</th>\n",
       "      <td>871</td>\n",
       "      <td>La Guardia Matching Set</td>\n",
       "      <td>Faithfull The Brand</td>\n",
       "      <td>yellow</td>\n",
       "      <td>43</td>\n",
       "      <td>dresses</td>\n",
       "      <td>Floral</td>\n",
       "      <td>Polka Dot</td>\n",
       "      <td>Loose</td>\n",
       "      <td>Smart Casual</td>\n",
       "      <td>...</td>\n",
       "      <td>no-sub-categories</td>\n",
       "      <td>no-sub-categories</td>\n",
       "      <td>no-sub-categories</td>\n",
       "      <td>no-sub-categories</td>\n",
       "      <td>no-sub-categories</td>\n",
       "      <td>no-sub-categories</td>\n",
       "      <td>no-sub-categories</td>\n",
       "      <td>38.698690</td>\n",
       "      <td>35.088235</td>\n",
       "      <td>11</td>\n",
       "    </tr>\n",
       "    <tr>\n",
       "      <th>29994</th>\n",
       "      <td>844</td>\n",
       "      <td>One-shoulder ruffled crepe mini dress</td>\n",
       "      <td>Solace London</td>\n",
       "      <td>yellow</td>\n",
       "      <td>75</td>\n",
       "      <td>dresses</td>\n",
       "      <td>Vinyl-PVC-Synthetics</td>\n",
       "      <td>Smart</td>\n",
       "      <td>Formal</td>\n",
       "      <td>Winter</td>\n",
       "      <td>...</td>\n",
       "      <td>no-sub-categories</td>\n",
       "      <td>no-sub-categories</td>\n",
       "      <td>no-sub-categories</td>\n",
       "      <td>no-sub-categories</td>\n",
       "      <td>no-sub-categories</td>\n",
       "      <td>no-sub-categories</td>\n",
       "      <td>no-sub-categories</td>\n",
       "      <td>79.911565</td>\n",
       "      <td>65.250000</td>\n",
       "      <td>8</td>\n",
       "    </tr>\n",
       "    <tr>\n",
       "      <th>29995</th>\n",
       "      <td>592</td>\n",
       "      <td>Billie Dress</td>\n",
       "      <td>Rebecca Vallance</td>\n",
       "      <td>yellow</td>\n",
       "      <td>42</td>\n",
       "      <td>dresses</td>\n",
       "      <td>Cotton-Jersey</td>\n",
       "      <td>Tie-Front</td>\n",
       "      <td>Skinny-Fit</td>\n",
       "      <td>Smart</td>\n",
       "      <td>...</td>\n",
       "      <td>no-sub-categories</td>\n",
       "      <td>no-sub-categories</td>\n",
       "      <td>no-sub-categories</td>\n",
       "      <td>no-sub-categories</td>\n",
       "      <td>no-sub-categories</td>\n",
       "      <td>no-sub-categories</td>\n",
       "      <td>no-sub-categories</td>\n",
       "      <td>82.153846</td>\n",
       "      <td>64.500000</td>\n",
       "      <td>10</td>\n",
       "    </tr>\n",
       "    <tr>\n",
       "      <th>29996</th>\n",
       "      <td>231</td>\n",
       "      <td>Yellow Maddie Striped-knit Mini Dress</td>\n",
       "      <td>Melissa Odabash</td>\n",
       "      <td>yellow</td>\n",
       "      <td>32</td>\n",
       "      <td>dresses</td>\n",
       "      <td>Wool-Cashmere</td>\n",
       "      <td>Horizontal Stripe</td>\n",
       "      <td>Casual</td>\n",
       "      <td>Winter</td>\n",
       "      <td>...</td>\n",
       "      <td>no-sub-categories</td>\n",
       "      <td>no-sub-categories</td>\n",
       "      <td>no-sub-categories</td>\n",
       "      <td>no-sub-categories</td>\n",
       "      <td>no-sub-categories</td>\n",
       "      <td>no-sub-categories</td>\n",
       "      <td>no-sub-categories</td>\n",
       "      <td>42.800000</td>\n",
       "      <td>43.000000</td>\n",
       "      <td>7</td>\n",
       "    </tr>\n",
       "  </tbody>\n",
       "</table>\n",
       "<p>29974 rows × 34 columns</p>\n",
       "</div>"
      ],
      "text/plain": [
       "          ID                                    Name                Brand  \\\n",
       "0      74416                     Runway stripe dress     Stella McCartney   \n",
       "1      73815              Reformation Kourtney Dress          Reformation   \n",
       "2      73801                Ivory Viola bridal dress                Ghost   \n",
       "3      73718                 Pasu Dress - Rhino Tusk               Coucoo   \n",
       "4      73605                                   Ellen                 RIXO   \n",
       "...      ...                                     ...                  ...   \n",
       "29992    872  Silk and wool-blend crepe dress yellow     Victoria Beckham   \n",
       "29993    871                 La Guardia Matching Set  Faithfull The Brand   \n",
       "29994    844   One-shoulder ruffled crepe mini dress        Solace London   \n",
       "29995    592                            Billie Dress     Rebecca Vallance   \n",
       "29996    231   Yellow Maddie Striped-knit Mini Dress      Melissa Odabash   \n",
       "\n",
       "       Colour  Price sub-Catagories-1       sub-Catagories-2  \\\n",
       "0       beige    111          dresses      no-sub-categories   \n",
       "1       beige     50          dresses      no-sub-categories   \n",
       "2       beige     75          dresses      no-sub-categories   \n",
       "3       beige     37          dresses      no-sub-categories   \n",
       "4       beige     47          dresses      no-sub-categories   \n",
       "...       ...    ...              ...                    ...   \n",
       "29992  yellow    102          dresses                  Smart   \n",
       "29993  yellow     43          dresses                 Floral   \n",
       "29994  yellow     75          dresses   Vinyl-PVC-Synthetics   \n",
       "29995  yellow     42          dresses          Cotton-Jersey   \n",
       "29996  yellow     32          dresses          Wool-Cashmere   \n",
       "\n",
       "         sub-Catagories-3   sub-Catagories-4   sub-Catagories-5  ...  \\\n",
       "0       no-sub-categories  no-sub-categories  no-sub-categories  ...   \n",
       "1       no-sub-categories  no-sub-categories  no-sub-categories  ...   \n",
       "2       no-sub-categories  no-sub-categories  no-sub-categories  ...   \n",
       "3       no-sub-categories  no-sub-categories  no-sub-categories  ...   \n",
       "4       no-sub-categories  no-sub-categories  no-sub-categories  ...   \n",
       "...                   ...                ...                ...  ...   \n",
       "29992                midi       Short Sleeve             Pencil  ...   \n",
       "29993           Polka Dot              Loose       Smart Casual  ...   \n",
       "29994               Smart             Formal             Winter  ...   \n",
       "29995           Tie-Front         Skinny-Fit              Smart  ...   \n",
       "29996   Horizontal Stripe             Casual             Winter  ...   \n",
       "\n",
       "       sub-Catagories-20  sub-Catagories-21  sub-Catagories-22  \\\n",
       "0      no-sub-categories  no-sub-categories  no-sub-categories   \n",
       "1      no-sub-categories  no-sub-categories  no-sub-categories   \n",
       "2      no-sub-categories  no-sub-categories  no-sub-categories   \n",
       "3      no-sub-categories  no-sub-categories  no-sub-categories   \n",
       "4      no-sub-categories  no-sub-categories  no-sub-categories   \n",
       "...                  ...                ...                ...   \n",
       "29992  no-sub-categories  no-sub-categories  no-sub-categories   \n",
       "29993  no-sub-categories  no-sub-categories  no-sub-categories   \n",
       "29994  no-sub-categories  no-sub-categories  no-sub-categories   \n",
       "29995  no-sub-categories  no-sub-categories  no-sub-categories   \n",
       "29996  no-sub-categories  no-sub-categories  no-sub-categories   \n",
       "\n",
       "       sub-Catagories-23  sub-Catagories-24  sub-Catagories-25  \\\n",
       "0      no-sub-categories  no-sub-categories  no-sub-categories   \n",
       "1      no-sub-categories  no-sub-categories  no-sub-categories   \n",
       "2      no-sub-categories  no-sub-categories  no-sub-categories   \n",
       "3      no-sub-categories  no-sub-categories  no-sub-categories   \n",
       "4      no-sub-categories  no-sub-categories  no-sub-categories   \n",
       "...                  ...                ...                ...   \n",
       "29992  no-sub-categories  no-sub-categories  no-sub-categories   \n",
       "29993  no-sub-categories  no-sub-categories  no-sub-categories   \n",
       "29994  no-sub-categories  no-sub-categories  no-sub-categories   \n",
       "29995  no-sub-categories  no-sub-categories  no-sub-categories   \n",
       "29996  no-sub-categories  no-sub-categories  no-sub-categories   \n",
       "\n",
       "       sub-Catagories-26 Avg_Price_By_Brand Avg_Price_By_Brand_Colour  \\\n",
       "0      no-sub-categories         127.189189                109.500000   \n",
       "1      no-sub-categories          50.490328                 53.534884   \n",
       "2      no-sub-categories          41.660900                 40.117647   \n",
       "3      no-sub-categories          44.692308                 37.250000   \n",
       "4      no-sub-categories          51.809540                 51.790323   \n",
       "...                  ...                ...                       ...   \n",
       "29992  no-sub-categories         116.462963                102.000000   \n",
       "29993  no-sub-categories          38.698690                 35.088235   \n",
       "29994  no-sub-categories          79.911565                 65.250000   \n",
       "29995  no-sub-categories          82.153846                 64.500000   \n",
       "29996  no-sub-categories          42.800000                 43.000000   \n",
       "\n",
       "      Category_Count  \n",
       "0                  1  \n",
       "1                  1  \n",
       "2                  1  \n",
       "3                  1  \n",
       "4                  1  \n",
       "...              ...  \n",
       "29992              6  \n",
       "29993             11  \n",
       "29994              8  \n",
       "29995             10  \n",
       "29996              7  \n",
       "\n",
       "[29974 rows x 34 columns]"
      ]
     },
     "execution_count": 18,
     "metadata": {},
     "output_type": "execute_result"
    }
   ],
   "source": [
    "df"
   ]
  },
  {
   "cell_type": "code",
   "execution_count": null,
   "metadata": {},
   "outputs": [],
   "source": []
  }
 ],
 "metadata": {
  "kernelspec": {
   "display_name": "fashion-rental-prediction",
   "language": "python",
   "name": "python3"
  },
  "language_info": {
   "codemirror_mode": {
    "name": "ipython",
    "version": 3
   },
   "file_extension": ".py",
   "mimetype": "text/x-python",
   "name": "python",
   "nbconvert_exporter": "python",
   "pygments_lexer": "ipython3",
   "version": "3.12.4"
  }
 },
 "nbformat": 4,
 "nbformat_minor": 2
}
