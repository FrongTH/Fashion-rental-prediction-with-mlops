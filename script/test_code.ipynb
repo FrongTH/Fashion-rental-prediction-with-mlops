{
 "cells": [
  {
   "cell_type": "code",
   "execution_count": 1,
   "metadata": {},
   "outputs": [],
   "source": [
    "from mlflow.tracking import MlflowClient\n",
    "from mlflow.entities import ViewType"
   ]
  },
  {
   "cell_type": "code",
   "execution_count": 17,
   "metadata": {},
   "outputs": [],
   "source": [
    "import mlflow"
   ]
  },
  {
   "cell_type": "code",
   "execution_count": 2,
   "metadata": {},
   "outputs": [],
   "source": [
    "client = MlflowClient()"
   ]
  },
  {
   "cell_type": "code",
   "execution_count": 18,
   "metadata": {},
   "outputs": [],
   "source": [
    "mlflow.set_tracking_uri(f\"http://0.0.0.0:5000\")"
   ]
  },
  {
   "cell_type": "code",
   "execution_count": 19,
   "metadata": {},
   "outputs": [
    {
     "name": "stderr",
     "output_type": "stream",
     "text": [
      "WARNING:root:Malformed experiment '1'. Detailed error Yaml file 'D:\\Frong\\LendALook\\Fashion-rental-prediction-with-mlops\\script\\mlruns\\1\\meta.yaml' does not exist.\n",
      "Traceback (most recent call last):\n",
      "  File \"c:\\Users\\FRONG\\Anaconda3\\envs\\fashion-rental-prediction\\lib\\site-packages\\mlflow\\store\\tracking\\file_store.py\", line 317, in search_experiments\n",
      "    exp = self._get_experiment(exp_id, view_type)\n",
      "  File \"c:\\Users\\FRONG\\Anaconda3\\envs\\fashion-rental-prediction\\lib\\site-packages\\mlflow\\store\\tracking\\file_store.py\", line 410, in _get_experiment\n",
      "    meta = FileStore._read_yaml(experiment_dir, FileStore.META_DATA_FILE_NAME)\n",
      "  File \"c:\\Users\\FRONG\\Anaconda3\\envs\\fashion-rental-prediction\\lib\\site-packages\\mlflow\\store\\tracking\\file_store.py\", line 1341, in _read_yaml\n",
      "    return _read_helper(root, file_name, attempts_remaining=retries)\n",
      "  File \"c:\\Users\\FRONG\\Anaconda3\\envs\\fashion-rental-prediction\\lib\\site-packages\\mlflow\\store\\tracking\\file_store.py\", line 1334, in _read_helper\n",
      "    result = read_yaml(root, file_name)\n",
      "  File \"c:\\Users\\FRONG\\Anaconda3\\envs\\fashion-rental-prediction\\lib\\site-packages\\mlflow\\utils\\file_utils.py\", line 312, in read_yaml\n",
      "    raise MissingConfigException(f\"Yaml file '{file_path}' does not exist.\")\n",
      "mlflow.exceptions.MissingConfigException: Yaml file 'D:\\Frong\\LendALook\\Fashion-rental-prediction-with-mlops\\script\\mlruns\\1\\meta.yaml' does not exist.\n"
     ]
    }
   ],
   "source": [
    "client.get_experiment_by_name(\"fashion-rental-prediction\")"
   ]
  },
  {
   "cell_type": "code",
   "execution_count": 5,
   "metadata": {},
   "outputs": [
    {
     "name": "stdout",
     "output_type": "stream",
     "text": [
      " Volume in drive D is Local Disk\n",
      " Volume Serial Number is A250-145C\n",
      "\n",
      " Directory of d:\\Frong\\LendALook\\Fashion-rental-prediction-with-mlops\\script\n",
      "\n",
      "08/04/2024  10:38 AM    <DIR>          .\n",
      "08/04/2024  10:38 AM    <DIR>          ..\n",
      "08/01/2024  08:04 PM             2,391 ingest.py\n",
      "08/03/2024  05:35 PM           520,192 mlflow.db\n",
      "08/04/2024  10:44 AM    <DIR>          mlruns\n",
      "08/04/2024  10:38 AM                 0 test_code.ipynb\n",
      "08/04/2024  10:37 AM             3,645 training_and_registe_model.py\n",
      "08/01/2024  08:04 PM            11,214 transform2feature_engineering.py\n",
      "               5 File(s)        537,442 bytes\n",
      "               3 Dir(s)  687,451,598,848 bytes free\n"
     ]
    }
   ],
   "source": []
  },
  {
   "cell_type": "code",
   "execution_count": null,
   "metadata": {},
   "outputs": [],
   "source": []
  }
 ],
 "metadata": {
  "kernelspec": {
   "display_name": "fashion-rental-prediction",
   "language": "python",
   "name": "python3"
  },
  "language_info": {
   "codemirror_mode": {
    "name": "ipython",
    "version": 3
   },
   "file_extension": ".py",
   "mimetype": "text/x-python",
   "name": "python",
   "nbconvert_exporter": "python",
   "pygments_lexer": "ipython3",
   "version": "3.9.19"
  }
 },
 "nbformat": 4,
 "nbformat_minor": 2
}
